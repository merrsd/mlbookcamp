{
  "nbformat": 4,
  "nbformat_minor": 0,
  "metadata": {
    "colab": {
      "provenance": []
    },
    "kernelspec": {
      "name": "python3",
      "display_name": "Python 3"
    },
    "language_info": {
      "name": "python"
    }
  },
  "cells": [
    {
      "cell_type": "markdown",
      "source": [
        "# Question 1"
      ],
      "metadata": {
        "id": "PW42LbaxrTit"
      }
    },
    {
      "cell_type": "code",
      "execution_count": 700,
      "metadata": {
        "id": "9i8XWKHOas2y"
      },
      "outputs": [],
      "source": [
        "import pandas as pd\n",
        "import numpy as np"
      ]
    },
    {
      "cell_type": "code",
      "source": [
        "df = pd.read_csv(\"data.csv\")"
      ],
      "metadata": {
        "id": "x4jIOcYTbKmC"
      },
      "execution_count": 701,
      "outputs": []
    },
    {
      "cell_type": "code",
      "source": [
        "df.median_house_value"
      ],
      "metadata": {
        "colab": {
          "base_uri": "https://localhost:8080/"
        },
        "id": "3JlWeUFYbWzi",
        "outputId": "ba06e518-d74a-4ea5-b5b2-58cf01e87329"
      },
      "execution_count": 702,
      "outputs": [
        {
          "output_type": "execute_result",
          "data": {
            "text/plain": [
              "0        452600.0\n",
              "1        358500.0\n",
              "2        352100.0\n",
              "3        341300.0\n",
              "4        342200.0\n",
              "           ...   \n",
              "20635     78100.0\n",
              "20636     77100.0\n",
              "20637     92300.0\n",
              "20638     84700.0\n",
              "20639     89400.0\n",
              "Name: median_house_value, Length: 20640, dtype: float64"
            ]
          },
          "metadata": {},
          "execution_count": 702
        }
      ]
    },
    {
      "cell_type": "code",
      "source": [
        "df.columns\n"
      ],
      "metadata": {
        "colab": {
          "base_uri": "https://localhost:8080/"
        },
        "id": "mCTlC5xHcGnT",
        "outputId": "2e6aebbd-baab-4344-a9d3-0759ce26ea5b"
      },
      "execution_count": 703,
      "outputs": [
        {
          "output_type": "execute_result",
          "data": {
            "text/plain": [
              "Index(['longitude', 'latitude', 'housing_median_age', 'total_rooms',\n",
              "       'total_bedrooms', 'population', 'households', 'median_income',\n",
              "       'median_house_value', 'ocean_proximity'],\n",
              "      dtype='object')"
            ]
          },
          "metadata": {},
          "execution_count": 703
        }
      ]
    },
    {
      "cell_type": "code",
      "source": [
        "df = df[['latitude','longitude','housing_median_age','total_rooms','total_bedrooms','population','households','median_income',\n",
        "'median_house_value']]"
      ],
      "metadata": {
        "id": "Ohf0sJVWcKYW"
      },
      "execution_count": 704,
      "outputs": []
    },
    {
      "cell_type": "code",
      "source": [
        "df.head()"
      ],
      "metadata": {
        "colab": {
          "base_uri": "https://localhost:8080/",
          "height": 0
        },
        "id": "rtukkGDEcgU6",
        "outputId": "fdd7c848-6a7c-4c1c-9695-79f02d84fad3"
      },
      "execution_count": 705,
      "outputs": [
        {
          "output_type": "execute_result",
          "data": {
            "text/plain": [
              "   latitude  longitude  housing_median_age  total_rooms  total_bedrooms  \\\n",
              "0     37.88    -122.23                41.0        880.0           129.0   \n",
              "1     37.86    -122.22                21.0       7099.0          1106.0   \n",
              "2     37.85    -122.24                52.0       1467.0           190.0   \n",
              "3     37.85    -122.25                52.0       1274.0           235.0   \n",
              "4     37.85    -122.25                52.0       1627.0           280.0   \n",
              "\n",
              "   population  households  median_income  median_house_value  \n",
              "0       322.0       126.0         8.3252            452600.0  \n",
              "1      2401.0      1138.0         8.3014            358500.0  \n",
              "2       496.0       177.0         7.2574            352100.0  \n",
              "3       558.0       219.0         5.6431            341300.0  \n",
              "4       565.0       259.0         3.8462            342200.0  "
            ],
            "text/html": [
              "\n",
              "  <div id=\"df-596e4067-d751-4587-9945-77a9278fc96f\">\n",
              "    <div class=\"colab-df-container\">\n",
              "      <div>\n",
              "<style scoped>\n",
              "    .dataframe tbody tr th:only-of-type {\n",
              "        vertical-align: middle;\n",
              "    }\n",
              "\n",
              "    .dataframe tbody tr th {\n",
              "        vertical-align: top;\n",
              "    }\n",
              "\n",
              "    .dataframe thead th {\n",
              "        text-align: right;\n",
              "    }\n",
              "</style>\n",
              "<table border=\"1\" class=\"dataframe\">\n",
              "  <thead>\n",
              "    <tr style=\"text-align: right;\">\n",
              "      <th></th>\n",
              "      <th>latitude</th>\n",
              "      <th>longitude</th>\n",
              "      <th>housing_median_age</th>\n",
              "      <th>total_rooms</th>\n",
              "      <th>total_bedrooms</th>\n",
              "      <th>population</th>\n",
              "      <th>households</th>\n",
              "      <th>median_income</th>\n",
              "      <th>median_house_value</th>\n",
              "    </tr>\n",
              "  </thead>\n",
              "  <tbody>\n",
              "    <tr>\n",
              "      <th>0</th>\n",
              "      <td>37.88</td>\n",
              "      <td>-122.23</td>\n",
              "      <td>41.0</td>\n",
              "      <td>880.0</td>\n",
              "      <td>129.0</td>\n",
              "      <td>322.0</td>\n",
              "      <td>126.0</td>\n",
              "      <td>8.3252</td>\n",
              "      <td>452600.0</td>\n",
              "    </tr>\n",
              "    <tr>\n",
              "      <th>1</th>\n",
              "      <td>37.86</td>\n",
              "      <td>-122.22</td>\n",
              "      <td>21.0</td>\n",
              "      <td>7099.0</td>\n",
              "      <td>1106.0</td>\n",
              "      <td>2401.0</td>\n",
              "      <td>1138.0</td>\n",
              "      <td>8.3014</td>\n",
              "      <td>358500.0</td>\n",
              "    </tr>\n",
              "    <tr>\n",
              "      <th>2</th>\n",
              "      <td>37.85</td>\n",
              "      <td>-122.24</td>\n",
              "      <td>52.0</td>\n",
              "      <td>1467.0</td>\n",
              "      <td>190.0</td>\n",
              "      <td>496.0</td>\n",
              "      <td>177.0</td>\n",
              "      <td>7.2574</td>\n",
              "      <td>352100.0</td>\n",
              "    </tr>\n",
              "    <tr>\n",
              "      <th>3</th>\n",
              "      <td>37.85</td>\n",
              "      <td>-122.25</td>\n",
              "      <td>52.0</td>\n",
              "      <td>1274.0</td>\n",
              "      <td>235.0</td>\n",
              "      <td>558.0</td>\n",
              "      <td>219.0</td>\n",
              "      <td>5.6431</td>\n",
              "      <td>341300.0</td>\n",
              "    </tr>\n",
              "    <tr>\n",
              "      <th>4</th>\n",
              "      <td>37.85</td>\n",
              "      <td>-122.25</td>\n",
              "      <td>52.0</td>\n",
              "      <td>1627.0</td>\n",
              "      <td>280.0</td>\n",
              "      <td>565.0</td>\n",
              "      <td>259.0</td>\n",
              "      <td>3.8462</td>\n",
              "      <td>342200.0</td>\n",
              "    </tr>\n",
              "  </tbody>\n",
              "</table>\n",
              "</div>\n",
              "      <button class=\"colab-df-convert\" onclick=\"convertToInteractive('df-596e4067-d751-4587-9945-77a9278fc96f')\"\n",
              "              title=\"Convert this dataframe to an interactive table.\"\n",
              "              style=\"display:none;\">\n",
              "        \n",
              "  <svg xmlns=\"http://www.w3.org/2000/svg\" height=\"24px\"viewBox=\"0 0 24 24\"\n",
              "       width=\"24px\">\n",
              "    <path d=\"M0 0h24v24H0V0z\" fill=\"none\"/>\n",
              "    <path d=\"M18.56 5.44l.94 2.06.94-2.06 2.06-.94-2.06-.94-.94-2.06-.94 2.06-2.06.94zm-11 1L8.5 8.5l.94-2.06 2.06-.94-2.06-.94L8.5 2.5l-.94 2.06-2.06.94zm10 10l.94 2.06.94-2.06 2.06-.94-2.06-.94-.94-2.06-.94 2.06-2.06.94z\"/><path d=\"M17.41 7.96l-1.37-1.37c-.4-.4-.92-.59-1.43-.59-.52 0-1.04.2-1.43.59L10.3 9.45l-7.72 7.72c-.78.78-.78 2.05 0 2.83L4 21.41c.39.39.9.59 1.41.59.51 0 1.02-.2 1.41-.59l7.78-7.78 2.81-2.81c.8-.78.8-2.07 0-2.86zM5.41 20L4 18.59l7.72-7.72 1.47 1.35L5.41 20z\"/>\n",
              "  </svg>\n",
              "      </button>\n",
              "      \n",
              "  <style>\n",
              "    .colab-df-container {\n",
              "      display:flex;\n",
              "      flex-wrap:wrap;\n",
              "      gap: 12px;\n",
              "    }\n",
              "\n",
              "    .colab-df-convert {\n",
              "      background-color: #E8F0FE;\n",
              "      border: none;\n",
              "      border-radius: 50%;\n",
              "      cursor: pointer;\n",
              "      display: none;\n",
              "      fill: #1967D2;\n",
              "      height: 32px;\n",
              "      padding: 0 0 0 0;\n",
              "      width: 32px;\n",
              "    }\n",
              "\n",
              "    .colab-df-convert:hover {\n",
              "      background-color: #E2EBFA;\n",
              "      box-shadow: 0px 1px 2px rgba(60, 64, 67, 0.3), 0px 1px 3px 1px rgba(60, 64, 67, 0.15);\n",
              "      fill: #174EA6;\n",
              "    }\n",
              "\n",
              "    [theme=dark] .colab-df-convert {\n",
              "      background-color: #3B4455;\n",
              "      fill: #D2E3FC;\n",
              "    }\n",
              "\n",
              "    [theme=dark] .colab-df-convert:hover {\n",
              "      background-color: #434B5C;\n",
              "      box-shadow: 0px 1px 3px 1px rgba(0, 0, 0, 0.15);\n",
              "      filter: drop-shadow(0px 1px 2px rgba(0, 0, 0, 0.3));\n",
              "      fill: #FFFFFF;\n",
              "    }\n",
              "  </style>\n",
              "\n",
              "      <script>\n",
              "        const buttonEl =\n",
              "          document.querySelector('#df-596e4067-d751-4587-9945-77a9278fc96f button.colab-df-convert');\n",
              "        buttonEl.style.display =\n",
              "          google.colab.kernel.accessAllowed ? 'block' : 'none';\n",
              "\n",
              "        async function convertToInteractive(key) {\n",
              "          const element = document.querySelector('#df-596e4067-d751-4587-9945-77a9278fc96f');\n",
              "          const dataTable =\n",
              "            await google.colab.kernel.invokeFunction('convertToInteractive',\n",
              "                                                     [key], {});\n",
              "          if (!dataTable) return;\n",
              "\n",
              "          const docLinkHtml = 'Like what you see? Visit the ' +\n",
              "            '<a target=\"_blank\" href=https://colab.research.google.com/notebooks/data_table.ipynb>data table notebook</a>'\n",
              "            + ' to learn more about interactive tables.';\n",
              "          element.innerHTML = '';\n",
              "          dataTable['output_type'] = 'display_data';\n",
              "          await google.colab.output.renderOutput(dataTable, element);\n",
              "          const docLink = document.createElement('div');\n",
              "          docLink.innerHTML = docLinkHtml;\n",
              "          element.appendChild(docLink);\n",
              "        }\n",
              "      </script>\n",
              "    </div>\n",
              "  </div>\n",
              "  "
            ]
          },
          "metadata": {},
          "execution_count": 705
        }
      ]
    },
    {
      "cell_type": "markdown",
      "source": [
        "Question1"
      ],
      "metadata": {
        "id": "KwaHDALsfVNO"
      }
    },
    {
      "cell_type": "code",
      "source": [
        "#question1\n",
        "df.isnull().sum()"
      ],
      "metadata": {
        "colab": {
          "base_uri": "https://localhost:8080/"
        },
        "id": "HHZ8bEIpci42",
        "outputId": "6103f604-da19-41e2-e1db-1c5b3b23bc01"
      },
      "execution_count": 706,
      "outputs": [
        {
          "output_type": "execute_result",
          "data": {
            "text/plain": [
              "latitude                0\n",
              "longitude               0\n",
              "housing_median_age      0\n",
              "total_rooms             0\n",
              "total_bedrooms        207\n",
              "population              0\n",
              "households              0\n",
              "median_income           0\n",
              "median_house_value      0\n",
              "dtype: int64"
            ]
          },
          "metadata": {},
          "execution_count": 706
        }
      ]
    },
    {
      "cell_type": "markdown",
      "source": [
        "# Question2"
      ],
      "metadata": {
        "id": "5KhmcBMdfbSc"
      }
    },
    {
      "cell_type": "code",
      "source": [
        "#question2\n",
        "df.population.median()"
      ],
      "metadata": {
        "colab": {
          "base_uri": "https://localhost:8080/"
        },
        "id": "asSNLNq5cxll",
        "outputId": "ffe6d382-84e4-442e-c19a-fd482ae88a63"
      },
      "execution_count": 707,
      "outputs": [
        {
          "output_type": "execute_result",
          "data": {
            "text/plain": [
              "1166.0"
            ]
          },
          "metadata": {},
          "execution_count": 707
        }
      ]
    },
    {
      "cell_type": "code",
      "source": [
        "n = len(df_train)\n",
        "\n",
        "n_val = int(n * 0.2)\n",
        "n_test = int(n * 0.2)\n",
        "n_train = n - n_val - n_test"
      ],
      "metadata": {
        "id": "0HZ9JQyHdTbm"
      },
      "execution_count": 708,
      "outputs": []
    },
    {
      "cell_type": "code",
      "source": [
        "df_train = df.iloc[n_train:]\n",
        "df_val = df.iloc[n_train:n_train+n_val]\n",
        "df_test = df.iloc[n_train+n_val:]"
      ],
      "metadata": {
        "id": "G-dAD_bQdoTx"
      },
      "execution_count": 709,
      "outputs": []
    },
    {
      "cell_type": "code",
      "source": [
        "np.random.seed(9) #\n",
        "idx = np.arange(n)"
      ],
      "metadata": {
        "id": "Y79TPLbGd0hH"
      },
      "execution_count": 710,
      "outputs": []
    },
    {
      "cell_type": "code",
      "source": [
        "df_train = df.iloc[idx[:n_train]]\n",
        "df_val = df.iloc[idx[n_train:n_train+n_val]]\n",
        "df_test = df.iloc[idx[n_train+n_val:]]"
      ],
      "metadata": {
        "id": "ykQmQfz4d7yB"
      },
      "execution_count": 711,
      "outputs": []
    },
    {
      "cell_type": "code",
      "source": [
        "df_train.head()"
      ],
      "metadata": {
        "colab": {
          "base_uri": "https://localhost:8080/",
          "height": 0
        },
        "id": "F5u8_b63d8j3",
        "outputId": "5a1e1a15-14b8-43e8-8ef6-c54cb0724ae2"
      },
      "execution_count": 712,
      "outputs": [
        {
          "output_type": "execute_result",
          "data": {
            "text/plain": [
              "   latitude  longitude  housing_median_age  total_rooms  total_bedrooms  \\\n",
              "0     37.88    -122.23                41.0        880.0           129.0   \n",
              "1     37.86    -122.22                21.0       7099.0          1106.0   \n",
              "2     37.85    -122.24                52.0       1467.0           190.0   \n",
              "3     37.85    -122.25                52.0       1274.0           235.0   \n",
              "\n",
              "   population  households  median_income  median_house_value  \n",
              "0       322.0       126.0         8.3252            452600.0  \n",
              "1      2401.0      1138.0         8.3014            358500.0  \n",
              "2       496.0       177.0         7.2574            352100.0  \n",
              "3       558.0       219.0         5.6431            341300.0  "
            ],
            "text/html": [
              "\n",
              "  <div id=\"df-0750d0be-d218-4964-8653-0ad44ee4fe39\">\n",
              "    <div class=\"colab-df-container\">\n",
              "      <div>\n",
              "<style scoped>\n",
              "    .dataframe tbody tr th:only-of-type {\n",
              "        vertical-align: middle;\n",
              "    }\n",
              "\n",
              "    .dataframe tbody tr th {\n",
              "        vertical-align: top;\n",
              "    }\n",
              "\n",
              "    .dataframe thead th {\n",
              "        text-align: right;\n",
              "    }\n",
              "</style>\n",
              "<table border=\"1\" class=\"dataframe\">\n",
              "  <thead>\n",
              "    <tr style=\"text-align: right;\">\n",
              "      <th></th>\n",
              "      <th>latitude</th>\n",
              "      <th>longitude</th>\n",
              "      <th>housing_median_age</th>\n",
              "      <th>total_rooms</th>\n",
              "      <th>total_bedrooms</th>\n",
              "      <th>population</th>\n",
              "      <th>households</th>\n",
              "      <th>median_income</th>\n",
              "      <th>median_house_value</th>\n",
              "    </tr>\n",
              "  </thead>\n",
              "  <tbody>\n",
              "    <tr>\n",
              "      <th>0</th>\n",
              "      <td>37.88</td>\n",
              "      <td>-122.23</td>\n",
              "      <td>41.0</td>\n",
              "      <td>880.0</td>\n",
              "      <td>129.0</td>\n",
              "      <td>322.0</td>\n",
              "      <td>126.0</td>\n",
              "      <td>8.3252</td>\n",
              "      <td>452600.0</td>\n",
              "    </tr>\n",
              "    <tr>\n",
              "      <th>1</th>\n",
              "      <td>37.86</td>\n",
              "      <td>-122.22</td>\n",
              "      <td>21.0</td>\n",
              "      <td>7099.0</td>\n",
              "      <td>1106.0</td>\n",
              "      <td>2401.0</td>\n",
              "      <td>1138.0</td>\n",
              "      <td>8.3014</td>\n",
              "      <td>358500.0</td>\n",
              "    </tr>\n",
              "    <tr>\n",
              "      <th>2</th>\n",
              "      <td>37.85</td>\n",
              "      <td>-122.24</td>\n",
              "      <td>52.0</td>\n",
              "      <td>1467.0</td>\n",
              "      <td>190.0</td>\n",
              "      <td>496.0</td>\n",
              "      <td>177.0</td>\n",
              "      <td>7.2574</td>\n",
              "      <td>352100.0</td>\n",
              "    </tr>\n",
              "    <tr>\n",
              "      <th>3</th>\n",
              "      <td>37.85</td>\n",
              "      <td>-122.25</td>\n",
              "      <td>52.0</td>\n",
              "      <td>1274.0</td>\n",
              "      <td>235.0</td>\n",
              "      <td>558.0</td>\n",
              "      <td>219.0</td>\n",
              "      <td>5.6431</td>\n",
              "      <td>341300.0</td>\n",
              "    </tr>\n",
              "  </tbody>\n",
              "</table>\n",
              "</div>\n",
              "      <button class=\"colab-df-convert\" onclick=\"convertToInteractive('df-0750d0be-d218-4964-8653-0ad44ee4fe39')\"\n",
              "              title=\"Convert this dataframe to an interactive table.\"\n",
              "              style=\"display:none;\">\n",
              "        \n",
              "  <svg xmlns=\"http://www.w3.org/2000/svg\" height=\"24px\"viewBox=\"0 0 24 24\"\n",
              "       width=\"24px\">\n",
              "    <path d=\"M0 0h24v24H0V0z\" fill=\"none\"/>\n",
              "    <path d=\"M18.56 5.44l.94 2.06.94-2.06 2.06-.94-2.06-.94-.94-2.06-.94 2.06-2.06.94zm-11 1L8.5 8.5l.94-2.06 2.06-.94-2.06-.94L8.5 2.5l-.94 2.06-2.06.94zm10 10l.94 2.06.94-2.06 2.06-.94-2.06-.94-.94-2.06-.94 2.06-2.06.94z\"/><path d=\"M17.41 7.96l-1.37-1.37c-.4-.4-.92-.59-1.43-.59-.52 0-1.04.2-1.43.59L10.3 9.45l-7.72 7.72c-.78.78-.78 2.05 0 2.83L4 21.41c.39.39.9.59 1.41.59.51 0 1.02-.2 1.41-.59l7.78-7.78 2.81-2.81c.8-.78.8-2.07 0-2.86zM5.41 20L4 18.59l7.72-7.72 1.47 1.35L5.41 20z\"/>\n",
              "  </svg>\n",
              "      </button>\n",
              "      \n",
              "  <style>\n",
              "    .colab-df-container {\n",
              "      display:flex;\n",
              "      flex-wrap:wrap;\n",
              "      gap: 12px;\n",
              "    }\n",
              "\n",
              "    .colab-df-convert {\n",
              "      background-color: #E8F0FE;\n",
              "      border: none;\n",
              "      border-radius: 50%;\n",
              "      cursor: pointer;\n",
              "      display: none;\n",
              "      fill: #1967D2;\n",
              "      height: 32px;\n",
              "      padding: 0 0 0 0;\n",
              "      width: 32px;\n",
              "    }\n",
              "\n",
              "    .colab-df-convert:hover {\n",
              "      background-color: #E2EBFA;\n",
              "      box-shadow: 0px 1px 2px rgba(60, 64, 67, 0.3), 0px 1px 3px 1px rgba(60, 64, 67, 0.15);\n",
              "      fill: #174EA6;\n",
              "    }\n",
              "\n",
              "    [theme=dark] .colab-df-convert {\n",
              "      background-color: #3B4455;\n",
              "      fill: #D2E3FC;\n",
              "    }\n",
              "\n",
              "    [theme=dark] .colab-df-convert:hover {\n",
              "      background-color: #434B5C;\n",
              "      box-shadow: 0px 1px 3px 1px rgba(0, 0, 0, 0.15);\n",
              "      filter: drop-shadow(0px 1px 2px rgba(0, 0, 0, 0.3));\n",
              "      fill: #FFFFFF;\n",
              "    }\n",
              "  </style>\n",
              "\n",
              "      <script>\n",
              "        const buttonEl =\n",
              "          document.querySelector('#df-0750d0be-d218-4964-8653-0ad44ee4fe39 button.colab-df-convert');\n",
              "        buttonEl.style.display =\n",
              "          google.colab.kernel.accessAllowed ? 'block' : 'none';\n",
              "\n",
              "        async function convertToInteractive(key) {\n",
              "          const element = document.querySelector('#df-0750d0be-d218-4964-8653-0ad44ee4fe39');\n",
              "          const dataTable =\n",
              "            await google.colab.kernel.invokeFunction('convertToInteractive',\n",
              "                                                     [key], {});\n",
              "          if (!dataTable) return;\n",
              "\n",
              "          const docLinkHtml = 'Like what you see? Visit the ' +\n",
              "            '<a target=\"_blank\" href=https://colab.research.google.com/notebooks/data_table.ipynb>data table notebook</a>'\n",
              "            + ' to learn more about interactive tables.';\n",
              "          element.innerHTML = '';\n",
              "          dataTable['output_type'] = 'display_data';\n",
              "          await google.colab.output.renderOutput(dataTable, element);\n",
              "          const docLink = document.createElement('div');\n",
              "          docLink.innerHTML = docLinkHtml;\n",
              "          element.appendChild(docLink);\n",
              "        }\n",
              "      </script>\n",
              "    </div>\n",
              "  </div>\n",
              "  "
            ]
          },
          "metadata": {},
          "execution_count": 712
        }
      ]
    },
    {
      "cell_type": "code",
      "source": [
        "df_train = df_train.reset_index(drop=True)\n",
        "df_val = df_val.reset_index(drop=True)\n",
        "df_test = df_test.reset_index(drop=True)"
      ],
      "metadata": {
        "id": "MSxcxkzJeCfD"
      },
      "execution_count": 713,
      "outputs": []
    },
    {
      "cell_type": "code",
      "source": [
        "df_train.head()"
      ],
      "metadata": {
        "colab": {
          "base_uri": "https://localhost:8080/",
          "height": 0
        },
        "id": "GG_9uP6dej2y",
        "outputId": "335f2d43-dfd4-4340-9d3e-cbf3b98b7eec"
      },
      "execution_count": 714,
      "outputs": [
        {
          "output_type": "execute_result",
          "data": {
            "text/plain": [
              "   latitude  longitude  housing_median_age  total_rooms  total_bedrooms  \\\n",
              "0     37.88    -122.23                41.0        880.0           129.0   \n",
              "1     37.86    -122.22                21.0       7099.0          1106.0   \n",
              "2     37.85    -122.24                52.0       1467.0           190.0   \n",
              "3     37.85    -122.25                52.0       1274.0           235.0   \n",
              "\n",
              "   population  households  median_income  median_house_value  \n",
              "0       322.0       126.0         8.3252            452600.0  \n",
              "1      2401.0      1138.0         8.3014            358500.0  \n",
              "2       496.0       177.0         7.2574            352100.0  \n",
              "3       558.0       219.0         5.6431            341300.0  "
            ],
            "text/html": [
              "\n",
              "  <div id=\"df-12911a28-2174-48c4-8cfa-a61afda30a16\">\n",
              "    <div class=\"colab-df-container\">\n",
              "      <div>\n",
              "<style scoped>\n",
              "    .dataframe tbody tr th:only-of-type {\n",
              "        vertical-align: middle;\n",
              "    }\n",
              "\n",
              "    .dataframe tbody tr th {\n",
              "        vertical-align: top;\n",
              "    }\n",
              "\n",
              "    .dataframe thead th {\n",
              "        text-align: right;\n",
              "    }\n",
              "</style>\n",
              "<table border=\"1\" class=\"dataframe\">\n",
              "  <thead>\n",
              "    <tr style=\"text-align: right;\">\n",
              "      <th></th>\n",
              "      <th>latitude</th>\n",
              "      <th>longitude</th>\n",
              "      <th>housing_median_age</th>\n",
              "      <th>total_rooms</th>\n",
              "      <th>total_bedrooms</th>\n",
              "      <th>population</th>\n",
              "      <th>households</th>\n",
              "      <th>median_income</th>\n",
              "      <th>median_house_value</th>\n",
              "    </tr>\n",
              "  </thead>\n",
              "  <tbody>\n",
              "    <tr>\n",
              "      <th>0</th>\n",
              "      <td>37.88</td>\n",
              "      <td>-122.23</td>\n",
              "      <td>41.0</td>\n",
              "      <td>880.0</td>\n",
              "      <td>129.0</td>\n",
              "      <td>322.0</td>\n",
              "      <td>126.0</td>\n",
              "      <td>8.3252</td>\n",
              "      <td>452600.0</td>\n",
              "    </tr>\n",
              "    <tr>\n",
              "      <th>1</th>\n",
              "      <td>37.86</td>\n",
              "      <td>-122.22</td>\n",
              "      <td>21.0</td>\n",
              "      <td>7099.0</td>\n",
              "      <td>1106.0</td>\n",
              "      <td>2401.0</td>\n",
              "      <td>1138.0</td>\n",
              "      <td>8.3014</td>\n",
              "      <td>358500.0</td>\n",
              "    </tr>\n",
              "    <tr>\n",
              "      <th>2</th>\n",
              "      <td>37.85</td>\n",
              "      <td>-122.24</td>\n",
              "      <td>52.0</td>\n",
              "      <td>1467.0</td>\n",
              "      <td>190.0</td>\n",
              "      <td>496.0</td>\n",
              "      <td>177.0</td>\n",
              "      <td>7.2574</td>\n",
              "      <td>352100.0</td>\n",
              "    </tr>\n",
              "    <tr>\n",
              "      <th>3</th>\n",
              "      <td>37.85</td>\n",
              "      <td>-122.25</td>\n",
              "      <td>52.0</td>\n",
              "      <td>1274.0</td>\n",
              "      <td>235.0</td>\n",
              "      <td>558.0</td>\n",
              "      <td>219.0</td>\n",
              "      <td>5.6431</td>\n",
              "      <td>341300.0</td>\n",
              "    </tr>\n",
              "  </tbody>\n",
              "</table>\n",
              "</div>\n",
              "      <button class=\"colab-df-convert\" onclick=\"convertToInteractive('df-12911a28-2174-48c4-8cfa-a61afda30a16')\"\n",
              "              title=\"Convert this dataframe to an interactive table.\"\n",
              "              style=\"display:none;\">\n",
              "        \n",
              "  <svg xmlns=\"http://www.w3.org/2000/svg\" height=\"24px\"viewBox=\"0 0 24 24\"\n",
              "       width=\"24px\">\n",
              "    <path d=\"M0 0h24v24H0V0z\" fill=\"none\"/>\n",
              "    <path d=\"M18.56 5.44l.94 2.06.94-2.06 2.06-.94-2.06-.94-.94-2.06-.94 2.06-2.06.94zm-11 1L8.5 8.5l.94-2.06 2.06-.94-2.06-.94L8.5 2.5l-.94 2.06-2.06.94zm10 10l.94 2.06.94-2.06 2.06-.94-2.06-.94-.94-2.06-.94 2.06-2.06.94z\"/><path d=\"M17.41 7.96l-1.37-1.37c-.4-.4-.92-.59-1.43-.59-.52 0-1.04.2-1.43.59L10.3 9.45l-7.72 7.72c-.78.78-.78 2.05 0 2.83L4 21.41c.39.39.9.59 1.41.59.51 0 1.02-.2 1.41-.59l7.78-7.78 2.81-2.81c.8-.78.8-2.07 0-2.86zM5.41 20L4 18.59l7.72-7.72 1.47 1.35L5.41 20z\"/>\n",
              "  </svg>\n",
              "      </button>\n",
              "      \n",
              "  <style>\n",
              "    .colab-df-container {\n",
              "      display:flex;\n",
              "      flex-wrap:wrap;\n",
              "      gap: 12px;\n",
              "    }\n",
              "\n",
              "    .colab-df-convert {\n",
              "      background-color: #E8F0FE;\n",
              "      border: none;\n",
              "      border-radius: 50%;\n",
              "      cursor: pointer;\n",
              "      display: none;\n",
              "      fill: #1967D2;\n",
              "      height: 32px;\n",
              "      padding: 0 0 0 0;\n",
              "      width: 32px;\n",
              "    }\n",
              "\n",
              "    .colab-df-convert:hover {\n",
              "      background-color: #E2EBFA;\n",
              "      box-shadow: 0px 1px 2px rgba(60, 64, 67, 0.3), 0px 1px 3px 1px rgba(60, 64, 67, 0.15);\n",
              "      fill: #174EA6;\n",
              "    }\n",
              "\n",
              "    [theme=dark] .colab-df-convert {\n",
              "      background-color: #3B4455;\n",
              "      fill: #D2E3FC;\n",
              "    }\n",
              "\n",
              "    [theme=dark] .colab-df-convert:hover {\n",
              "      background-color: #434B5C;\n",
              "      box-shadow: 0px 1px 3px 1px rgba(0, 0, 0, 0.15);\n",
              "      filter: drop-shadow(0px 1px 2px rgba(0, 0, 0, 0.3));\n",
              "      fill: #FFFFFF;\n",
              "    }\n",
              "  </style>\n",
              "\n",
              "      <script>\n",
              "        const buttonEl =\n",
              "          document.querySelector('#df-12911a28-2174-48c4-8cfa-a61afda30a16 button.colab-df-convert');\n",
              "        buttonEl.style.display =\n",
              "          google.colab.kernel.accessAllowed ? 'block' : 'none';\n",
              "\n",
              "        async function convertToInteractive(key) {\n",
              "          const element = document.querySelector('#df-12911a28-2174-48c4-8cfa-a61afda30a16');\n",
              "          const dataTable =\n",
              "            await google.colab.kernel.invokeFunction('convertToInteractive',\n",
              "                                                     [key], {});\n",
              "          if (!dataTable) return;\n",
              "\n",
              "          const docLinkHtml = 'Like what you see? Visit the ' +\n",
              "            '<a target=\"_blank\" href=https://colab.research.google.com/notebooks/data_table.ipynb>data table notebook</a>'\n",
              "            + ' to learn more about interactive tables.';\n",
              "          element.innerHTML = '';\n",
              "          dataTable['output_type'] = 'display_data';\n",
              "          await google.colab.output.renderOutput(dataTable, element);\n",
              "          const docLink = document.createElement('div');\n",
              "          docLink.innerHTML = docLinkHtml;\n",
              "          element.appendChild(docLink);\n",
              "        }\n",
              "      </script>\n",
              "    </div>\n",
              "  </div>\n",
              "  "
            ]
          },
          "metadata": {},
          "execution_count": 714
        }
      ]
    },
    {
      "cell_type": "code",
      "source": [
        "y_train = np.log1p(df_train.median_house_value.values) # to numpy\n",
        "y_val = np.log1p(df_val.median_house_value.values) # to numpy\n",
        "y_test = np.log1p(df_test.median_house_value.values) # to numpy"
      ],
      "metadata": {
        "id": "8_bbRQwnhPSz"
      },
      "execution_count": 715,
      "outputs": []
    },
    {
      "cell_type": "code",
      "source": [
        "#del df_train['median_house_value']\n",
        "#del df_val['median_house_value']\n",
        "#del df_test['median_house_value']"
      ],
      "metadata": {
        "id": "6NlYvKCbu5Iq"
      },
      "execution_count": 716,
      "outputs": []
    },
    {
      "cell_type": "markdown",
      "source": [
        "# Question3\n"
      ],
      "metadata": {
        "id": "2kN03kn5fg7X"
      }
    },
    {
      "cell_type": "code",
      "source": [
        "df_train.total_bedrooms.mean()"
      ],
      "metadata": {
        "colab": {
          "base_uri": "https://localhost:8080/"
        },
        "id": "6bZzA2sAirUb",
        "outputId": "5f54713f-31a5-4a7c-ce03-e4cab4074481"
      },
      "execution_count": 717,
      "outputs": [
        {
          "output_type": "execute_result",
          "data": {
            "text/plain": [
              "415.0"
            ]
          },
          "metadata": {},
          "execution_count": 717
        }
      ]
    },
    {
      "cell_type": "code",
      "source": [
        "#fill out of 0\n",
        "X_train = df_train.fillna(0).values"
      ],
      "metadata": {
        "id": "I8rIj5DNfSx2"
      },
      "execution_count": 718,
      "outputs": []
    },
    {
      "cell_type": "code",
      "source": [
        "def train_linear_regression(X, y):\n",
        "  ones = np.ones(X.shape[0])\n",
        "  X = np.column_stack([ones, X])\n",
        "\n",
        "  XTX = X.T.dot(X)\n",
        "  XTX_inv = np.linalg.inv(XTX)\n",
        "  w_full = XTX_inv.dot(X.T).dot(y)\n",
        "\n",
        "  return w_full[0], w_full[1:]"
      ],
      "metadata": {
        "id": "ibSLxP_8gIPS"
      },
      "execution_count": 719,
      "outputs": []
    },
    {
      "cell_type": "code",
      "source": [
        "X_train"
      ],
      "metadata": {
        "colab": {
          "base_uri": "https://localhost:8080/"
        },
        "id": "R4GoAEfjzcbK",
        "outputId": "6108b6d7-b62b-479d-fd77-5b8f4cd21b63"
      },
      "execution_count": 720,
      "outputs": [
        {
          "output_type": "execute_result",
          "data": {
            "text/plain": [
              "array([[ 3.7880e+01, -1.2223e+02,  4.1000e+01,  8.8000e+02,  1.2900e+02,\n",
              "         3.2200e+02,  1.2600e+02,  8.3252e+00,  4.5260e+05],\n",
              "       [ 3.7860e+01, -1.2222e+02,  2.1000e+01,  7.0990e+03,  1.1060e+03,\n",
              "         2.4010e+03,  1.1380e+03,  8.3014e+00,  3.5850e+05],\n",
              "       [ 3.7850e+01, -1.2224e+02,  5.2000e+01,  1.4670e+03,  1.9000e+02,\n",
              "         4.9600e+02,  1.7700e+02,  7.2574e+00,  3.5210e+05],\n",
              "       [ 3.7850e+01, -1.2225e+02,  5.2000e+01,  1.2740e+03,  2.3500e+02,\n",
              "         5.5800e+02,  2.1900e+02,  5.6431e+00,  3.4130e+05]])"
            ]
          },
          "metadata": {},
          "execution_count": 720
        }
      ]
    },
    {
      "cell_type": "code",
      "source": [
        "y_train"
      ],
      "metadata": {
        "colab": {
          "base_uri": "https://localhost:8080/"
        },
        "id": "IJhjOQPWvvGv",
        "outputId": "759b7ea7-263d-4649-ec7c-0b8573e38627"
      },
      "execution_count": 721,
      "outputs": [
        {
          "output_type": "execute_result",
          "data": {
            "text/plain": [
              "array([13.02276622, 12.78968673, 12.77167335, 12.74052006])"
            ]
          },
          "metadata": {},
          "execution_count": 721
        }
      ]
    },
    {
      "cell_type": "code",
      "source": [
        "w0, w =train_linear_regression(X_train, y_train)"
      ],
      "metadata": {
        "id": "zZihYQrbgh5T"
      },
      "execution_count": 722,
      "outputs": []
    },
    {
      "cell_type": "code",
      "source": [
        "y_pred = w0 + X_train.dot(w)"
      ],
      "metadata": {
        "id": "eAjk2Y9KiaYE"
      },
      "execution_count": 729,
      "outputs": []
    },
    {
      "cell_type": "code",
      "source": [
        "def rmse(y, y_pred):\n",
        "  error = y - y_pred\n",
        "  se = error ** 2\n",
        "  mse = se.mean()\n",
        "  return np.sqrt(mse)\n"
      ],
      "metadata": {
        "id": "sCpN0imMiG9a"
      },
      "execution_count": 730,
      "outputs": []
    },
    {
      "cell_type": "code",
      "source": [
        "round(rmse(y_train, y_pred),2)"
      ],
      "metadata": {
        "colab": {
          "base_uri": "https://localhost:8080/"
        },
        "id": "HQUjCDYiiIH6",
        "outputId": "6a788a50-90ce-4b22-97f6-0eb42a0d129d"
      },
      "execution_count": 731,
      "outputs": [
        {
          "output_type": "execute_result",
          "data": {
            "text/plain": [
              "0.01"
            ]
          },
          "metadata": {},
          "execution_count": 731
        }
      ]
    },
    {
      "cell_type": "markdown",
      "source": [
        "0.17 if we fill out of 0; \n",
        "0.18 if we rill out of mean"
      ],
      "metadata": {
        "id": "4vRwDnpcnJKY"
      }
    },
    {
      "cell_type": "markdown",
      "source": [
        "# Question 4"
      ],
      "metadata": {
        "id": "EVwQrN-SntOi"
      }
    },
    {
      "cell_type": "code",
      "source": [
        "def train_linear_regression_reg(X, y, r=0.001):\n",
        "  ones = np.ones(X.shape[0])\n",
        "  X = np.column_stack([ones, X])\n",
        "\n",
        "  XTX = X.T.dot(X)\n",
        "  XTX = XTX + r *np.eye(XTX.shape[0])\n",
        "\n",
        "  XTX_inv = np.linalg.inv(XTX)\n",
        "  w_full = XTX_inv.dot(X.T).dot(y)\n",
        "\n",
        "  return w_full[0], w_full[1:]"
      ],
      "metadata": {
        "id": "-igGClgjnvhj"
      },
      "execution_count": 726,
      "outputs": []
    },
    {
      "cell_type": "code",
      "source": [
        "X_val = df_val"
      ],
      "metadata": {
        "id": "sUB1qHi-o4lq"
      },
      "execution_count": 727,
      "outputs": []
    },
    {
      "cell_type": "code",
      "source": [
        "for r in [0, 0.000001, 0.0001, 0.001, 0.01, 0.1, 1, 5, 10]:\n",
        "  w0, w =train_linear_regression_reg(X_train, y_train, r)\n",
        "\n",
        "  y_pred = w0 + X_val.dot(w)\n",
        "  score = rmse(y_val, y_pred)\n",
        "\n",
        "  print(r, ' ', round(score,5))"
      ],
      "metadata": {
        "colab": {
          "base_uri": "https://localhost:8080/"
        },
        "id": "gB_4zviooL7z",
        "outputId": "b1d5d983-746d-4874-8955-ea4b79364290"
      },
      "execution_count": 728,
      "outputs": [
        {
          "output_type": "stream",
          "name": "stdout",
          "text": [
            "0   nan\n",
            "1e-06   nan\n",
            "0.0001   nan\n",
            "0.001   nan\n",
            "0.01   nan\n",
            "0.1   nan\n",
            "1   nan\n",
            "5   nan\n",
            "10   nan\n"
          ]
        }
      ]
    },
    {
      "cell_type": "markdown",
      "source": [
        "# Question 5"
      ],
      "metadata": {
        "id": "avZvB2aDpybe"
      }
    },
    {
      "cell_type": "code",
      "source": [
        "0.16, 0.12, 0.1, 0.1, 0.1, 0.1, 0.08, 0.07, 0.06, 0.03"
      ],
      "metadata": {
        "id": "Vx4-1k8Pp03G"
      },
      "execution_count": null,
      "outputs": []
    },
    {
      "cell_type": "code",
      "source": [
        "np.std([0.16, 0.12, 0.1, 0.1, 0.1, 0.1, 0.08, 0.07, 0.06, 0.03])"
      ],
      "metadata": {
        "colab": {
          "base_uri": "https://localhost:8080/"
        },
        "id": "ka1F7KCIsNmg",
        "outputId": "ce3adcc2-a03c-4eb6-a4c1-784543573feb"
      },
      "execution_count": 455,
      "outputs": [
        {
          "output_type": "execute_result",
          "data": {
            "text/plain": [
              "0.033406586176980134"
            ]
          },
          "metadata": {},
          "execution_count": 455
        }
      ]
    },
    {
      "cell_type": "code",
      "source": [
        "round(0.033406586176980134, 3)"
      ],
      "metadata": {
        "colab": {
          "base_uri": "https://localhost:8080/"
        },
        "id": "ho_UWcJJsEHx",
        "outputId": "86af9f3b-4de0-402e-e74e-086891750776"
      },
      "execution_count": 456,
      "outputs": [
        {
          "output_type": "execute_result",
          "data": {
            "text/plain": [
              "0.033"
            ]
          },
          "metadata": {},
          "execution_count": 456
        }
      ]
    },
    {
      "cell_type": "markdown",
      "source": [
        "# Question6"
      ],
      "metadata": {
        "id": "oYze7goYsZ1e"
      }
    },
    {
      "cell_type": "code",
      "source": [
        "df_full_train = pd.concat([df_train, df_val])"
      ],
      "metadata": {
        "id": "_5UOHXvQscF2"
      },
      "execution_count": 457,
      "outputs": []
    },
    {
      "cell_type": "code",
      "source": [
        "df_full_train.head()"
      ],
      "metadata": {
        "colab": {
          "base_uri": "https://localhost:8080/",
          "height": 0
        },
        "id": "m5vWwN3psvfC",
        "outputId": "205dd911-a9c1-4bc3-b9e6-75a1ce9ca5f4"
      },
      "execution_count": 459,
      "outputs": [
        {
          "output_type": "execute_result",
          "data": {
            "text/plain": [
              "   latitude  longitude  housing_median_age  total_rooms  total_bedrooms  \\\n",
              "0     37.88    -122.23                41.0        880.0           129.0   \n",
              "1     37.86    -122.22                21.0       7099.0          1106.0   \n",
              "2     37.85    -122.24                52.0       1467.0           190.0   \n",
              "3     37.85    -122.25                52.0       1274.0           235.0   \n",
              "4     37.85    -122.25                52.0       1627.0           280.0   \n",
              "\n",
              "   population  households  median_income  median_house_value  \n",
              "0       322.0       126.0         8.3252            452600.0  \n",
              "1      2401.0      1138.0         8.3014            358500.0  \n",
              "2       496.0       177.0         7.2574            352100.0  \n",
              "3       558.0       219.0         5.6431            341300.0  \n",
              "4       565.0       259.0         3.8462            342200.0  "
            ],
            "text/html": [
              "\n",
              "  <div id=\"df-0cc24590-4b7a-4217-a749-c4bd19ff4bbd\">\n",
              "    <div class=\"colab-df-container\">\n",
              "      <div>\n",
              "<style scoped>\n",
              "    .dataframe tbody tr th:only-of-type {\n",
              "        vertical-align: middle;\n",
              "    }\n",
              "\n",
              "    .dataframe tbody tr th {\n",
              "        vertical-align: top;\n",
              "    }\n",
              "\n",
              "    .dataframe thead th {\n",
              "        text-align: right;\n",
              "    }\n",
              "</style>\n",
              "<table border=\"1\" class=\"dataframe\">\n",
              "  <thead>\n",
              "    <tr style=\"text-align: right;\">\n",
              "      <th></th>\n",
              "      <th>latitude</th>\n",
              "      <th>longitude</th>\n",
              "      <th>housing_median_age</th>\n",
              "      <th>total_rooms</th>\n",
              "      <th>total_bedrooms</th>\n",
              "      <th>population</th>\n",
              "      <th>households</th>\n",
              "      <th>median_income</th>\n",
              "      <th>median_house_value</th>\n",
              "    </tr>\n",
              "  </thead>\n",
              "  <tbody>\n",
              "    <tr>\n",
              "      <th>0</th>\n",
              "      <td>37.88</td>\n",
              "      <td>-122.23</td>\n",
              "      <td>41.0</td>\n",
              "      <td>880.0</td>\n",
              "      <td>129.0</td>\n",
              "      <td>322.0</td>\n",
              "      <td>126.0</td>\n",
              "      <td>8.3252</td>\n",
              "      <td>452600.0</td>\n",
              "    </tr>\n",
              "    <tr>\n",
              "      <th>1</th>\n",
              "      <td>37.86</td>\n",
              "      <td>-122.22</td>\n",
              "      <td>21.0</td>\n",
              "      <td>7099.0</td>\n",
              "      <td>1106.0</td>\n",
              "      <td>2401.0</td>\n",
              "      <td>1138.0</td>\n",
              "      <td>8.3014</td>\n",
              "      <td>358500.0</td>\n",
              "    </tr>\n",
              "    <tr>\n",
              "      <th>2</th>\n",
              "      <td>37.85</td>\n",
              "      <td>-122.24</td>\n",
              "      <td>52.0</td>\n",
              "      <td>1467.0</td>\n",
              "      <td>190.0</td>\n",
              "      <td>496.0</td>\n",
              "      <td>177.0</td>\n",
              "      <td>7.2574</td>\n",
              "      <td>352100.0</td>\n",
              "    </tr>\n",
              "    <tr>\n",
              "      <th>3</th>\n",
              "      <td>37.85</td>\n",
              "      <td>-122.25</td>\n",
              "      <td>52.0</td>\n",
              "      <td>1274.0</td>\n",
              "      <td>235.0</td>\n",
              "      <td>558.0</td>\n",
              "      <td>219.0</td>\n",
              "      <td>5.6431</td>\n",
              "      <td>341300.0</td>\n",
              "    </tr>\n",
              "    <tr>\n",
              "      <th>4</th>\n",
              "      <td>37.85</td>\n",
              "      <td>-122.25</td>\n",
              "      <td>52.0</td>\n",
              "      <td>1627.0</td>\n",
              "      <td>280.0</td>\n",
              "      <td>565.0</td>\n",
              "      <td>259.0</td>\n",
              "      <td>3.8462</td>\n",
              "      <td>342200.0</td>\n",
              "    </tr>\n",
              "  </tbody>\n",
              "</table>\n",
              "</div>\n",
              "      <button class=\"colab-df-convert\" onclick=\"convertToInteractive('df-0cc24590-4b7a-4217-a749-c4bd19ff4bbd')\"\n",
              "              title=\"Convert this dataframe to an interactive table.\"\n",
              "              style=\"display:none;\">\n",
              "        \n",
              "  <svg xmlns=\"http://www.w3.org/2000/svg\" height=\"24px\"viewBox=\"0 0 24 24\"\n",
              "       width=\"24px\">\n",
              "    <path d=\"M0 0h24v24H0V0z\" fill=\"none\"/>\n",
              "    <path d=\"M18.56 5.44l.94 2.06.94-2.06 2.06-.94-2.06-.94-.94-2.06-.94 2.06-2.06.94zm-11 1L8.5 8.5l.94-2.06 2.06-.94-2.06-.94L8.5 2.5l-.94 2.06-2.06.94zm10 10l.94 2.06.94-2.06 2.06-.94-2.06-.94-.94-2.06-.94 2.06-2.06.94z\"/><path d=\"M17.41 7.96l-1.37-1.37c-.4-.4-.92-.59-1.43-.59-.52 0-1.04.2-1.43.59L10.3 9.45l-7.72 7.72c-.78.78-.78 2.05 0 2.83L4 21.41c.39.39.9.59 1.41.59.51 0 1.02-.2 1.41-.59l7.78-7.78 2.81-2.81c.8-.78.8-2.07 0-2.86zM5.41 20L4 18.59l7.72-7.72 1.47 1.35L5.41 20z\"/>\n",
              "  </svg>\n",
              "      </button>\n",
              "      \n",
              "  <style>\n",
              "    .colab-df-container {\n",
              "      display:flex;\n",
              "      flex-wrap:wrap;\n",
              "      gap: 12px;\n",
              "    }\n",
              "\n",
              "    .colab-df-convert {\n",
              "      background-color: #E8F0FE;\n",
              "      border: none;\n",
              "      border-radius: 50%;\n",
              "      cursor: pointer;\n",
              "      display: none;\n",
              "      fill: #1967D2;\n",
              "      height: 32px;\n",
              "      padding: 0 0 0 0;\n",
              "      width: 32px;\n",
              "    }\n",
              "\n",
              "    .colab-df-convert:hover {\n",
              "      background-color: #E2EBFA;\n",
              "      box-shadow: 0px 1px 2px rgba(60, 64, 67, 0.3), 0px 1px 3px 1px rgba(60, 64, 67, 0.15);\n",
              "      fill: #174EA6;\n",
              "    }\n",
              "\n",
              "    [theme=dark] .colab-df-convert {\n",
              "      background-color: #3B4455;\n",
              "      fill: #D2E3FC;\n",
              "    }\n",
              "\n",
              "    [theme=dark] .colab-df-convert:hover {\n",
              "      background-color: #434B5C;\n",
              "      box-shadow: 0px 1px 3px 1px rgba(0, 0, 0, 0.15);\n",
              "      filter: drop-shadow(0px 1px 2px rgba(0, 0, 0, 0.3));\n",
              "      fill: #FFFFFF;\n",
              "    }\n",
              "  </style>\n",
              "\n",
              "      <script>\n",
              "        const buttonEl =\n",
              "          document.querySelector('#df-0cc24590-4b7a-4217-a749-c4bd19ff4bbd button.colab-df-convert');\n",
              "        buttonEl.style.display =\n",
              "          google.colab.kernel.accessAllowed ? 'block' : 'none';\n",
              "\n",
              "        async function convertToInteractive(key) {\n",
              "          const element = document.querySelector('#df-0cc24590-4b7a-4217-a749-c4bd19ff4bbd');\n",
              "          const dataTable =\n",
              "            await google.colab.kernel.invokeFunction('convertToInteractive',\n",
              "                                                     [key], {});\n",
              "          if (!dataTable) return;\n",
              "\n",
              "          const docLinkHtml = 'Like what you see? Visit the ' +\n",
              "            '<a target=\"_blank\" href=https://colab.research.google.com/notebooks/data_table.ipynb>data table notebook</a>'\n",
              "            + ' to learn more about interactive tables.';\n",
              "          element.innerHTML = '';\n",
              "          dataTable['output_type'] = 'display_data';\n",
              "          await google.colab.output.renderOutput(dataTable, element);\n",
              "          const docLink = document.createElement('div');\n",
              "          docLink.innerHTML = docLinkHtml;\n",
              "          element.appendChild(docLink);\n",
              "        }\n",
              "      </script>\n",
              "    </div>\n",
              "  </div>\n",
              "  "
            ]
          },
          "metadata": {},
          "execution_count": 459
        }
      ]
    },
    {
      "cell_type": "code",
      "source": [
        "df_full_train.reset_index(drop= True)"
      ],
      "metadata": {
        "colab": {
          "base_uri": "https://localhost:8080/",
          "height": 0
        },
        "id": "okBsJq5Esu5i",
        "outputId": "0706ed70-a9cb-4651-9f1c-8015bd653348"
      },
      "execution_count": 460,
      "outputs": [
        {
          "output_type": "execute_result",
          "data": {
            "text/plain": [
              "    latitude  longitude  housing_median_age  total_rooms  total_bedrooms  \\\n",
              "0      37.88    -122.23                41.0        880.0           129.0   \n",
              "1      37.86    -122.22                21.0       7099.0          1106.0   \n",
              "2      37.85    -122.24                52.0       1467.0           190.0   \n",
              "3      37.85    -122.25                52.0       1274.0           235.0   \n",
              "4      37.85    -122.25                52.0       1627.0           280.0   \n",
              "5      37.85    -122.25                52.0        919.0           213.0   \n",
              "6      37.84    -122.25                52.0       2535.0           489.0   \n",
              "7      37.84    -122.25                52.0       3104.0           687.0   \n",
              "8      37.84    -122.26                42.0       2555.0           665.0   \n",
              "9      37.84    -122.25                52.0       3549.0           707.0   \n",
              "10     37.85    -122.26                52.0       2202.0           434.0   \n",
              "11     37.85    -122.26                52.0       3503.0           752.0   \n",
              "12     37.85    -122.26                52.0       2491.0           474.0   \n",
              "13     37.84    -122.26                52.0        696.0           191.0   \n",
              "14     37.85    -122.26                52.0       2643.0           626.0   \n",
              "15     37.85    -122.26                50.0       1120.0           283.0   \n",
              "16     37.85    -122.27                52.0       1966.0           347.0   \n",
              "17     37.85    -122.27                52.0       1228.0           293.0   \n",
              "18     37.84    -122.26                50.0       2239.0           455.0   \n",
              "19     37.84    -122.27                52.0       1503.0           298.0   \n",
              "20     37.85    -122.27                40.0        751.0           184.0   \n",
              "21     37.85    -122.27                42.0       1639.0           367.0   \n",
              "22     37.84    -122.27                52.0       2436.0           541.0   \n",
              "\n",
              "    population  households  median_income  median_house_value  \n",
              "0        322.0       126.0         8.3252            452600.0  \n",
              "1       2401.0      1138.0         8.3014            358500.0  \n",
              "2        496.0       177.0         7.2574            352100.0  \n",
              "3        558.0       219.0         5.6431            341300.0  \n",
              "4        565.0       259.0         3.8462            342200.0  \n",
              "5        413.0       193.0         4.0368            269700.0  \n",
              "6       1094.0       514.0         3.6591            299200.0  \n",
              "7       1157.0       647.0         3.1200            241400.0  \n",
              "8       1206.0       595.0         2.0804            226700.0  \n",
              "9       1551.0       714.0         3.6912            261100.0  \n",
              "10       910.0       402.0         3.2031            281500.0  \n",
              "11      1504.0       734.0         3.2705            241800.0  \n",
              "12      1098.0       468.0         3.0750            213500.0  \n",
              "13       345.0       174.0         2.6736            191300.0  \n",
              "14      1212.0       620.0         1.9167            159200.0  \n",
              "15       697.0       264.0         2.1250            140000.0  \n",
              "16       793.0       331.0         2.7750            152500.0  \n",
              "17       648.0       303.0         2.1202            155500.0  \n",
              "18       990.0       419.0         1.9911            158700.0  \n",
              "19       690.0       275.0         2.6033            162900.0  \n",
              "20       409.0       166.0         1.3578            147500.0  \n",
              "21       929.0       366.0         1.7135            159800.0  \n",
              "22      1015.0       478.0         1.7250            113900.0  "
            ],
            "text/html": [
              "\n",
              "  <div id=\"df-fa27d227-6c30-4e98-b8b2-16dfd6c364f0\">\n",
              "    <div class=\"colab-df-container\">\n",
              "      <div>\n",
              "<style scoped>\n",
              "    .dataframe tbody tr th:only-of-type {\n",
              "        vertical-align: middle;\n",
              "    }\n",
              "\n",
              "    .dataframe tbody tr th {\n",
              "        vertical-align: top;\n",
              "    }\n",
              "\n",
              "    .dataframe thead th {\n",
              "        text-align: right;\n",
              "    }\n",
              "</style>\n",
              "<table border=\"1\" class=\"dataframe\">\n",
              "  <thead>\n",
              "    <tr style=\"text-align: right;\">\n",
              "      <th></th>\n",
              "      <th>latitude</th>\n",
              "      <th>longitude</th>\n",
              "      <th>housing_median_age</th>\n",
              "      <th>total_rooms</th>\n",
              "      <th>total_bedrooms</th>\n",
              "      <th>population</th>\n",
              "      <th>households</th>\n",
              "      <th>median_income</th>\n",
              "      <th>median_house_value</th>\n",
              "    </tr>\n",
              "  </thead>\n",
              "  <tbody>\n",
              "    <tr>\n",
              "      <th>0</th>\n",
              "      <td>37.88</td>\n",
              "      <td>-122.23</td>\n",
              "      <td>41.0</td>\n",
              "      <td>880.0</td>\n",
              "      <td>129.0</td>\n",
              "      <td>322.0</td>\n",
              "      <td>126.0</td>\n",
              "      <td>8.3252</td>\n",
              "      <td>452600.0</td>\n",
              "    </tr>\n",
              "    <tr>\n",
              "      <th>1</th>\n",
              "      <td>37.86</td>\n",
              "      <td>-122.22</td>\n",
              "      <td>21.0</td>\n",
              "      <td>7099.0</td>\n",
              "      <td>1106.0</td>\n",
              "      <td>2401.0</td>\n",
              "      <td>1138.0</td>\n",
              "      <td>8.3014</td>\n",
              "      <td>358500.0</td>\n",
              "    </tr>\n",
              "    <tr>\n",
              "      <th>2</th>\n",
              "      <td>37.85</td>\n",
              "      <td>-122.24</td>\n",
              "      <td>52.0</td>\n",
              "      <td>1467.0</td>\n",
              "      <td>190.0</td>\n",
              "      <td>496.0</td>\n",
              "      <td>177.0</td>\n",
              "      <td>7.2574</td>\n",
              "      <td>352100.0</td>\n",
              "    </tr>\n",
              "    <tr>\n",
              "      <th>3</th>\n",
              "      <td>37.85</td>\n",
              "      <td>-122.25</td>\n",
              "      <td>52.0</td>\n",
              "      <td>1274.0</td>\n",
              "      <td>235.0</td>\n",
              "      <td>558.0</td>\n",
              "      <td>219.0</td>\n",
              "      <td>5.6431</td>\n",
              "      <td>341300.0</td>\n",
              "    </tr>\n",
              "    <tr>\n",
              "      <th>4</th>\n",
              "      <td>37.85</td>\n",
              "      <td>-122.25</td>\n",
              "      <td>52.0</td>\n",
              "      <td>1627.0</td>\n",
              "      <td>280.0</td>\n",
              "      <td>565.0</td>\n",
              "      <td>259.0</td>\n",
              "      <td>3.8462</td>\n",
              "      <td>342200.0</td>\n",
              "    </tr>\n",
              "    <tr>\n",
              "      <th>5</th>\n",
              "      <td>37.85</td>\n",
              "      <td>-122.25</td>\n",
              "      <td>52.0</td>\n",
              "      <td>919.0</td>\n",
              "      <td>213.0</td>\n",
              "      <td>413.0</td>\n",
              "      <td>193.0</td>\n",
              "      <td>4.0368</td>\n",
              "      <td>269700.0</td>\n",
              "    </tr>\n",
              "    <tr>\n",
              "      <th>6</th>\n",
              "      <td>37.84</td>\n",
              "      <td>-122.25</td>\n",
              "      <td>52.0</td>\n",
              "      <td>2535.0</td>\n",
              "      <td>489.0</td>\n",
              "      <td>1094.0</td>\n",
              "      <td>514.0</td>\n",
              "      <td>3.6591</td>\n",
              "      <td>299200.0</td>\n",
              "    </tr>\n",
              "    <tr>\n",
              "      <th>7</th>\n",
              "      <td>37.84</td>\n",
              "      <td>-122.25</td>\n",
              "      <td>52.0</td>\n",
              "      <td>3104.0</td>\n",
              "      <td>687.0</td>\n",
              "      <td>1157.0</td>\n",
              "      <td>647.0</td>\n",
              "      <td>3.1200</td>\n",
              "      <td>241400.0</td>\n",
              "    </tr>\n",
              "    <tr>\n",
              "      <th>8</th>\n",
              "      <td>37.84</td>\n",
              "      <td>-122.26</td>\n",
              "      <td>42.0</td>\n",
              "      <td>2555.0</td>\n",
              "      <td>665.0</td>\n",
              "      <td>1206.0</td>\n",
              "      <td>595.0</td>\n",
              "      <td>2.0804</td>\n",
              "      <td>226700.0</td>\n",
              "    </tr>\n",
              "    <tr>\n",
              "      <th>9</th>\n",
              "      <td>37.84</td>\n",
              "      <td>-122.25</td>\n",
              "      <td>52.0</td>\n",
              "      <td>3549.0</td>\n",
              "      <td>707.0</td>\n",
              "      <td>1551.0</td>\n",
              "      <td>714.0</td>\n",
              "      <td>3.6912</td>\n",
              "      <td>261100.0</td>\n",
              "    </tr>\n",
              "    <tr>\n",
              "      <th>10</th>\n",
              "      <td>37.85</td>\n",
              "      <td>-122.26</td>\n",
              "      <td>52.0</td>\n",
              "      <td>2202.0</td>\n",
              "      <td>434.0</td>\n",
              "      <td>910.0</td>\n",
              "      <td>402.0</td>\n",
              "      <td>3.2031</td>\n",
              "      <td>281500.0</td>\n",
              "    </tr>\n",
              "    <tr>\n",
              "      <th>11</th>\n",
              "      <td>37.85</td>\n",
              "      <td>-122.26</td>\n",
              "      <td>52.0</td>\n",
              "      <td>3503.0</td>\n",
              "      <td>752.0</td>\n",
              "      <td>1504.0</td>\n",
              "      <td>734.0</td>\n",
              "      <td>3.2705</td>\n",
              "      <td>241800.0</td>\n",
              "    </tr>\n",
              "    <tr>\n",
              "      <th>12</th>\n",
              "      <td>37.85</td>\n",
              "      <td>-122.26</td>\n",
              "      <td>52.0</td>\n",
              "      <td>2491.0</td>\n",
              "      <td>474.0</td>\n",
              "      <td>1098.0</td>\n",
              "      <td>468.0</td>\n",
              "      <td>3.0750</td>\n",
              "      <td>213500.0</td>\n",
              "    </tr>\n",
              "    <tr>\n",
              "      <th>13</th>\n",
              "      <td>37.84</td>\n",
              "      <td>-122.26</td>\n",
              "      <td>52.0</td>\n",
              "      <td>696.0</td>\n",
              "      <td>191.0</td>\n",
              "      <td>345.0</td>\n",
              "      <td>174.0</td>\n",
              "      <td>2.6736</td>\n",
              "      <td>191300.0</td>\n",
              "    </tr>\n",
              "    <tr>\n",
              "      <th>14</th>\n",
              "      <td>37.85</td>\n",
              "      <td>-122.26</td>\n",
              "      <td>52.0</td>\n",
              "      <td>2643.0</td>\n",
              "      <td>626.0</td>\n",
              "      <td>1212.0</td>\n",
              "      <td>620.0</td>\n",
              "      <td>1.9167</td>\n",
              "      <td>159200.0</td>\n",
              "    </tr>\n",
              "    <tr>\n",
              "      <th>15</th>\n",
              "      <td>37.85</td>\n",
              "      <td>-122.26</td>\n",
              "      <td>50.0</td>\n",
              "      <td>1120.0</td>\n",
              "      <td>283.0</td>\n",
              "      <td>697.0</td>\n",
              "      <td>264.0</td>\n",
              "      <td>2.1250</td>\n",
              "      <td>140000.0</td>\n",
              "    </tr>\n",
              "    <tr>\n",
              "      <th>16</th>\n",
              "      <td>37.85</td>\n",
              "      <td>-122.27</td>\n",
              "      <td>52.0</td>\n",
              "      <td>1966.0</td>\n",
              "      <td>347.0</td>\n",
              "      <td>793.0</td>\n",
              "      <td>331.0</td>\n",
              "      <td>2.7750</td>\n",
              "      <td>152500.0</td>\n",
              "    </tr>\n",
              "    <tr>\n",
              "      <th>17</th>\n",
              "      <td>37.85</td>\n",
              "      <td>-122.27</td>\n",
              "      <td>52.0</td>\n",
              "      <td>1228.0</td>\n",
              "      <td>293.0</td>\n",
              "      <td>648.0</td>\n",
              "      <td>303.0</td>\n",
              "      <td>2.1202</td>\n",
              "      <td>155500.0</td>\n",
              "    </tr>\n",
              "    <tr>\n",
              "      <th>18</th>\n",
              "      <td>37.84</td>\n",
              "      <td>-122.26</td>\n",
              "      <td>50.0</td>\n",
              "      <td>2239.0</td>\n",
              "      <td>455.0</td>\n",
              "      <td>990.0</td>\n",
              "      <td>419.0</td>\n",
              "      <td>1.9911</td>\n",
              "      <td>158700.0</td>\n",
              "    </tr>\n",
              "    <tr>\n",
              "      <th>19</th>\n",
              "      <td>37.84</td>\n",
              "      <td>-122.27</td>\n",
              "      <td>52.0</td>\n",
              "      <td>1503.0</td>\n",
              "      <td>298.0</td>\n",
              "      <td>690.0</td>\n",
              "      <td>275.0</td>\n",
              "      <td>2.6033</td>\n",
              "      <td>162900.0</td>\n",
              "    </tr>\n",
              "    <tr>\n",
              "      <th>20</th>\n",
              "      <td>37.85</td>\n",
              "      <td>-122.27</td>\n",
              "      <td>40.0</td>\n",
              "      <td>751.0</td>\n",
              "      <td>184.0</td>\n",
              "      <td>409.0</td>\n",
              "      <td>166.0</td>\n",
              "      <td>1.3578</td>\n",
              "      <td>147500.0</td>\n",
              "    </tr>\n",
              "    <tr>\n",
              "      <th>21</th>\n",
              "      <td>37.85</td>\n",
              "      <td>-122.27</td>\n",
              "      <td>42.0</td>\n",
              "      <td>1639.0</td>\n",
              "      <td>367.0</td>\n",
              "      <td>929.0</td>\n",
              "      <td>366.0</td>\n",
              "      <td>1.7135</td>\n",
              "      <td>159800.0</td>\n",
              "    </tr>\n",
              "    <tr>\n",
              "      <th>22</th>\n",
              "      <td>37.84</td>\n",
              "      <td>-122.27</td>\n",
              "      <td>52.0</td>\n",
              "      <td>2436.0</td>\n",
              "      <td>541.0</td>\n",
              "      <td>1015.0</td>\n",
              "      <td>478.0</td>\n",
              "      <td>1.7250</td>\n",
              "      <td>113900.0</td>\n",
              "    </tr>\n",
              "  </tbody>\n",
              "</table>\n",
              "</div>\n",
              "      <button class=\"colab-df-convert\" onclick=\"convertToInteractive('df-fa27d227-6c30-4e98-b8b2-16dfd6c364f0')\"\n",
              "              title=\"Convert this dataframe to an interactive table.\"\n",
              "              style=\"display:none;\">\n",
              "        \n",
              "  <svg xmlns=\"http://www.w3.org/2000/svg\" height=\"24px\"viewBox=\"0 0 24 24\"\n",
              "       width=\"24px\">\n",
              "    <path d=\"M0 0h24v24H0V0z\" fill=\"none\"/>\n",
              "    <path d=\"M18.56 5.44l.94 2.06.94-2.06 2.06-.94-2.06-.94-.94-2.06-.94 2.06-2.06.94zm-11 1L8.5 8.5l.94-2.06 2.06-.94-2.06-.94L8.5 2.5l-.94 2.06-2.06.94zm10 10l.94 2.06.94-2.06 2.06-.94-2.06-.94-.94-2.06-.94 2.06-2.06.94z\"/><path d=\"M17.41 7.96l-1.37-1.37c-.4-.4-.92-.59-1.43-.59-.52 0-1.04.2-1.43.59L10.3 9.45l-7.72 7.72c-.78.78-.78 2.05 0 2.83L4 21.41c.39.39.9.59 1.41.59.51 0 1.02-.2 1.41-.59l7.78-7.78 2.81-2.81c.8-.78.8-2.07 0-2.86zM5.41 20L4 18.59l7.72-7.72 1.47 1.35L5.41 20z\"/>\n",
              "  </svg>\n",
              "      </button>\n",
              "      \n",
              "  <style>\n",
              "    .colab-df-container {\n",
              "      display:flex;\n",
              "      flex-wrap:wrap;\n",
              "      gap: 12px;\n",
              "    }\n",
              "\n",
              "    .colab-df-convert {\n",
              "      background-color: #E8F0FE;\n",
              "      border: none;\n",
              "      border-radius: 50%;\n",
              "      cursor: pointer;\n",
              "      display: none;\n",
              "      fill: #1967D2;\n",
              "      height: 32px;\n",
              "      padding: 0 0 0 0;\n",
              "      width: 32px;\n",
              "    }\n",
              "\n",
              "    .colab-df-convert:hover {\n",
              "      background-color: #E2EBFA;\n",
              "      box-shadow: 0px 1px 2px rgba(60, 64, 67, 0.3), 0px 1px 3px 1px rgba(60, 64, 67, 0.15);\n",
              "      fill: #174EA6;\n",
              "    }\n",
              "\n",
              "    [theme=dark] .colab-df-convert {\n",
              "      background-color: #3B4455;\n",
              "      fill: #D2E3FC;\n",
              "    }\n",
              "\n",
              "    [theme=dark] .colab-df-convert:hover {\n",
              "      background-color: #434B5C;\n",
              "      box-shadow: 0px 1px 3px 1px rgba(0, 0, 0, 0.15);\n",
              "      filter: drop-shadow(0px 1px 2px rgba(0, 0, 0, 0.3));\n",
              "      fill: #FFFFFF;\n",
              "    }\n",
              "  </style>\n",
              "\n",
              "      <script>\n",
              "        const buttonEl =\n",
              "          document.querySelector('#df-fa27d227-6c30-4e98-b8b2-16dfd6c364f0 button.colab-df-convert');\n",
              "        buttonEl.style.display =\n",
              "          google.colab.kernel.accessAllowed ? 'block' : 'none';\n",
              "\n",
              "        async function convertToInteractive(key) {\n",
              "          const element = document.querySelector('#df-fa27d227-6c30-4e98-b8b2-16dfd6c364f0');\n",
              "          const dataTable =\n",
              "            await google.colab.kernel.invokeFunction('convertToInteractive',\n",
              "                                                     [key], {});\n",
              "          if (!dataTable) return;\n",
              "\n",
              "          const docLinkHtml = 'Like what you see? Visit the ' +\n",
              "            '<a target=\"_blank\" href=https://colab.research.google.com/notebooks/data_table.ipynb>data table notebook</a>'\n",
              "            + ' to learn more about interactive tables.';\n",
              "          element.innerHTML = '';\n",
              "          dataTable['output_type'] = 'display_data';\n",
              "          await google.colab.output.renderOutput(dataTable, element);\n",
              "          const docLink = document.createElement('div');\n",
              "          docLink.innerHTML = docLinkHtml;\n",
              "          element.appendChild(docLink);\n",
              "        }\n",
              "      </script>\n",
              "    </div>\n",
              "  </div>\n",
              "  "
            ]
          },
          "metadata": {},
          "execution_count": 460
        }
      ]
    },
    {
      "cell_type": "code",
      "source": [
        "y_full_train = np.concatenate([y_train, y_val])"
      ],
      "metadata": {
        "id": "Ono3-Ir-s08p"
      },
      "execution_count": 461,
      "outputs": []
    },
    {
      "cell_type": "code",
      "source": [
        "y_full_train"
      ],
      "metadata": {
        "colab": {
          "base_uri": "https://localhost:8080/"
        },
        "id": "J86TWihYtV0i",
        "outputId": "47f8ee65-68b6-43a4-9103-3cc555a06f68"
      },
      "execution_count": 462,
      "outputs": [
        {
          "output_type": "execute_result",
          "data": {
            "text/plain": [
              "array([13.02276622, 12.78968673, 12.77167335, 12.74052006, 12.74315356,\n",
              "       12.50506922, 12.60887087, 12.39421473, 12.33138725, 12.47266258,\n",
              "       12.54789128, 12.39587035, 12.2713968 , 12.16160338, 11.97792283,\n",
              "       11.84940484, 11.93492643, 11.95440744, 11.97477721, 12.00089793,\n",
              "       11.90159023, 11.98168457, 11.64308493])"
            ]
          },
          "metadata": {},
          "execution_count": 462
        }
      ]
    },
    {
      "cell_type": "code",
      "source": [
        "X_full_train = df_full_train"
      ],
      "metadata": {
        "id": "BY8yojhqtnNK"
      },
      "execution_count": 466,
      "outputs": []
    },
    {
      "cell_type": "code",
      "source": [
        "w0, w =train_linear_regression_reg(X_full_train, y_full_train, r =0.001)"
      ],
      "metadata": {
        "id": "aTvIuaiytUlU"
      },
      "execution_count": 467,
      "outputs": []
    },
    {
      "cell_type": "code",
      "source": [
        "X_test =df_test\n",
        "y_pred = w0 + X_test.dot(w)\n",
        "score = rmse(y_test, y_pred)\n",
        "score"
      ],
      "metadata": {
        "colab": {
          "base_uri": "https://localhost:8080/"
        },
        "id": "K73zHYWntv--",
        "outputId": "8c1d876d-03ce-4bc9-dc04-8e5c2f30bd06"
      },
      "execution_count": 469,
      "outputs": [
        {
          "output_type": "execute_result",
          "data": {
            "text/plain": [
              "0.15327540293946154"
            ]
          },
          "metadata": {},
          "execution_count": 469
        }
      ]
    }
  ]
}