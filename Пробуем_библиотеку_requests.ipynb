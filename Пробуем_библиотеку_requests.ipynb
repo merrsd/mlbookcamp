{
  "nbformat": 4,
  "nbformat_minor": 0,
  "metadata": {
    "colab": {
      "provenance": [],
      "include_colab_link": true
    },
    "kernelspec": {
      "name": "python3",
      "display_name": "Python 3"
    },
    "language_info": {
      "name": "python"
    }
  },
  "cells": [
    {
      "cell_type": "markdown",
      "metadata": {
        "id": "view-in-github",
        "colab_type": "text"
      },
      "source": [
        "<a href=\"https://colab.research.google.com/github/merrsd/mlbookcamp/blob/main/%D0%9F%D1%80%D0%BE%D0%B1%D1%83%D0%B5%D0%BC_%D0%B1%D0%B8%D0%B1%D0%BB%D0%B8%D0%BE%D1%82%D0%B5%D0%BA%D1%83_requests.ipynb\" target=\"_parent\"><img src=\"https://colab.research.google.com/assets/colab-badge.svg\" alt=\"Open In Colab\"/></a>"
      ]
    },
    {
      "cell_type": "markdown",
      "source": [
        "# Знакомство с библиотекой Requests "
      ],
      "metadata": {
        "id": "pZZ7qCXIfvH-"
      }
    },
    {
      "cell_type": "markdown",
      "source": [
        "Requests — это элегантная и простая HTTP-библиотека для Python, созданная для людей.\n",
        "<br>\n",
        "[Документация библиотеки Requests](https://2.python-requests.org/en/master/)"
      ],
      "metadata": {
        "id": "yI7kLyM6fzLB"
      }
    },
    {
      "cell_type": "markdown",
      "source": [
        "# Установка библиотеки"
      ],
      "metadata": {
        "id": "PLPj11QOgQwJ"
      }
    },
    {
      "cell_type": "code",
      "source": [
        "!pip install requests"
      ],
      "metadata": {
        "id": "BBWNyRmKgS8H"
      },
      "execution_count": null,
      "outputs": []
    },
    {
      "cell_type": "markdown",
      "source": [
        "# Наш первый запрос"
      ],
      "metadata": {
        "id": "z1qbOwi0kFzr"
      }
    },
    {
      "cell_type": "markdown",
      "source": [],
      "metadata": {
        "id": "JpSYjU64xo_Y"
      }
    },
    {
      "cell_type": "markdown",
      "source": [
        "[HTTPBIN.ORG ](http://httpbin.org/) — это простая служба HTTP-запросов и ответов, подходит для тестов и обучения."
      ],
      "metadata": {
        "id": "zW7M1ORIgZoa"
      }
    },
    {
      "cell_type": "code",
      "execution_count": null,
      "metadata": {
        "id": "38WWMbqIkALz"
      },
      "outputs": [],
      "source": [
        "import requests\n",
        "\n",
        "\n",
        "res = requests.get(\"http://httpbin.org/\")\n",
        "print(res)"
      ]
    },
    {
      "cell_type": "markdown",
      "source": [
        "# Коды состояния"
      ],
      "metadata": {
        "id": "Zrwy2zQrkVnb"
      }
    },
    {
      "cell_type": "code",
      "source": [
        "res.status_code\n"
      ],
      "metadata": {
        "id": "DpKI4vvWkJmP"
      },
      "execution_count": null,
      "outputs": []
    },
    {
      "cell_type": "code",
      "source": [
        "if res:\n",
        "  print(\"YAY\")\n",
        "else:\n",
        "  print(\"ERROR\")\n"
      ],
      "metadata": {
        "id": "IKqdNUtMkfBX"
      },
      "execution_count": null,
      "outputs": []
    },
    {
      "cell_type": "code",
      "source": [
        "import requests\n",
        "from requests.exceptions import HTTPError\n",
        "\n",
        "for url in ['http://httpbin.org/status/400', 'http://httpbin.ru', 'http://httpbin.org/status/200']:\n",
        "  try:\n",
        "    res = requests.get(url)\n",
        "    res.raise_for_status()\n",
        "  except HTTPError as ex:\n",
        "    print(\"HTTPError: {}\".format(ex))\n",
        "  except Exception as ex:\n",
        "    print(\"Exception: {}\".format(ex))\n",
        "  else:\n",
        "    print(\"Success!\")\n"
      ],
      "metadata": {
        "id": "FMrbtONKkX-4"
      },
      "execution_count": null,
      "outputs": []
    },
    {
      "cell_type": "markdown",
      "source": [
        "# Заголовки"
      ],
      "metadata": {
        "id": "-qcbeRPukZ5g"
      }
    },
    {
      "cell_type": "code",
      "source": [
        "res.headers"
      ],
      "metadata": {
        "id": "7E2GIfNPknK_"
      },
      "execution_count": null,
      "outputs": []
    },
    {
      "cell_type": "code",
      "source": [
        "url = 'http://httpbin.org/get'\n",
        "headers = {'User-Agent': 'my-app/0.0.1'}\n",
        "res = requests.get(url, headers=headers)\n",
        "print(res.headers)"
      ],
      "metadata": {
        "id": "AgsM5RiTkoaR"
      },
      "execution_count": null,
      "outputs": []
    },
    {
      "cell_type": "markdown",
      "source": [
        "# Просмотр тела объекта"
      ],
      "metadata": {
        "id": "WqeVPN1gk31V"
      }
    },
    {
      "cell_type": "code",
      "source": [
        "res.content"
      ],
      "metadata": {
        "id": "mQJc4-J8mhwG"
      },
      "execution_count": null,
      "outputs": []
    },
    {
      "cell_type": "code",
      "source": [
        "res.text"
      ],
      "metadata": {
        "id": "prC8Xn_dlDbe"
      },
      "execution_count": null,
      "outputs": []
    },
    {
      "cell_type": "code",
      "source": [
        "res.json()"
      ],
      "metadata": {
        "id": "3Euf84jAmbrl"
      },
      "execution_count": null,
      "outputs": []
    },
    {
      "cell_type": "markdown",
      "source": [
        "# Передача данных в запросах"
      ],
      "metadata": {
        "id": "9_35KiO1p7eK"
      }
    },
    {
      "cell_type": "code",
      "source": [
        "import requests\n",
        "\n",
        "url = \"https://www.google.com/search\"\n",
        "params = {\"q\": \"аналитик\"}\n",
        "\n",
        "res = requests.get(url, params=params)\n",
        "print(res.text)"
      ],
      "metadata": {
        "id": "O57lSTb9p7-t"
      },
      "execution_count": null,
      "outputs": []
    },
    {
      "cell_type": "code",
      "source": [
        "url = 'http://httpbin.org/post'\n",
        "params = {\"q\": \"аналитик\"}\n",
        "\n",
        "res = requests.post(url, data=params)\n",
        "print(res.text)"
      ],
      "metadata": {
        "id": "l0aXWUp5rFxs"
      },
      "execution_count": null,
      "outputs": []
    },
    {
      "cell_type": "markdown",
      "source": [
        "# Использование API VK"
      ],
      "metadata": {
        "id": "rOaraKmLk40E"
      }
    },
    {
      "cell_type": "code",
      "source": [
        "access_token = \"vk1.a.WIUPggs_uZBe611J3YLyeuwpT-eykc5SypuI1Sv3MdEop9VH1_xb721VmPfottTZFr3yhVNWmxqLa8pqCNvHMnIw7p7BQDK3gSldV88UvD5l8YdczjtVs6pY82T_IfLm0N23putVRJa0Xp1VLYh-GvdPSfnADqgDVeWd7tAsaUpiJZaD0cczNKgbDywNmsZo\"\n",
        "url = \"https://api.vk.com/method/users.get\"\n",
        "params = {\n",
        "    \"user_id\":\"210700286\",\n",
        "    \"v\":5.131,\n",
        "    \"access_token\": access_token\n",
        "}\n",
        "\n",
        "res = requests.get(url, params=params)\n",
        "print(res.json())\n"
      ],
      "metadata": {
        "id": "1_MahCSIk9CU"
      },
      "execution_count": null,
      "outputs": []
    }
  ]
}